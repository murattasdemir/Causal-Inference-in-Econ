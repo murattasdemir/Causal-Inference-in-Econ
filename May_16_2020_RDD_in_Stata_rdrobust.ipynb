{
 "cells": [
  {
   "cell_type": "markdown",
   "metadata": {},
   "source": [
    "---\n",
    "# May_16_2020_RDD_in_Stata_rdrobust\n",
    "---\n",
    "* Name: Jikhan Jeong\n",
    "* Ref: https://sites.google.com/site/rdpackages/rdrobust (package)\n",
    "* Ref: https://cattaneo.princeton.edu/papers/Calonico-Cattaneo-Farrell-Titiunik_2017_Stata.pdf (Stata Journal)\n",
    "* Ref: https://onlinelibrary.wiley.com/doi/abs/10.3982/ECTA11757 (Paper), Econometrica 2014\n",
    "* Install:  ssc install rdrobust or net install rdrobust, from(https://sites.google.com/site/rdpackages/rdrobust/stata) replace\n",
    "---"
   ]
  },
  {
   "cell_type": "code",
   "execution_count": 3,
   "metadata": {},
   "outputs": [
    {
     "name": "stdout",
     "output_type": "stream",
     "text": [
      "\n",
      "/data/cahnrs/jikhan.jeong/amazon\n"
     ]
    }
   ],
   "source": [
    "!pwd"
   ]
  },
  {
   "cell_type": "code",
   "execution_count": 1,
   "metadata": {},
   "outputs": [
    {
     "name": "stdout",
     "output_type": "stream",
     "text": [
      "checking rdrobust consistency and verifying not already installed...\n",
      "installing into /home/jikhan.jeong/ado/plus/...\n",
      "installation complete.\n"
     ]
    }
   ],
   "source": [
    "net install rdrobust, from(https://sites.google.com/site/rdpackages/rdrobust/stata) replace"
   ]
  },
  {
   "cell_type": "code",
   "execution_count": 1,
   "metadata": {},
   "outputs": [],
   "source": [
    "use rdrobust_senate.dta"
   ]
  },
  {
   "cell_type": "markdown",
   "metadata": {},
   "source": [
    "---\n",
    "* **margin** ranges from -100 to 100, records the Democratic party's margin of victory in the statewide election for a given U.S. Senate seat which the vote sahre of the Demoratic party - that of the strongest opponent\n",
    "* margin > 0, the Democratic party wins the election for that seat. The discontinuity in incumbency status that occurs at margin = 0, **running variable** is **margin**\n",
    "* **vote** : ranges from 0 to 100, records the Democratic vote share in the following election for the same seat (6 year later), **the outcome variable**\n",
    "---"
   ]
  },
  {
   "cell_type": "code",
   "execution_count": 2,
   "metadata": {},
   "outputs": [
    {
     "name": "stdout",
     "output_type": "stream",
     "text": [
      "\n",
      "    Variable |        Obs        Mean    Std. Dev.       Min        Max\n",
      "-------------+---------------------------------------------------------\n",
      "       state |      1,390    40.01367    21.99304          1         82\n",
      "        year |      1,390     1964.63    28.05466       1914       2010\n",
      "        vote |      1,297    52.66627    18.12219          0        100\n",
      "      margin |      1,390    7.171159    34.32488       -100        100\n",
      "       class |      1,390    2.023022    .8231983          1          3\n",
      "-------------+---------------------------------------------------------\n",
      "  termshouse |      1,108    1.436823    2.357133          0         16\n",
      " termssenate |      1,108    4.555957    3.720294          1         20\n",
      "  population |      1,390     3827919     4436950      78000   3.73e+07\n"
     ]
    }
   ],
   "source": [
    "sum"
   ]
  },
  {
   "cell_type": "code",
   "execution_count": 9,
   "metadata": {},
   "outputs": [
    {
     "name": "stdout",
     "output_type": "stream",
     "text": [
      "\n",
      "    Variable |        Obs        Mean    Std. Dev.       Min        Max\n",
      "-------------+---------------------------------------------------------\n",
      "        vote |      1,297    52.66627    18.12219          0        100\n",
      "      margin |      1,390    7.171159    34.32488       -100        100\n"
     ]
    }
   ],
   "source": [
    "summarize vote margin"
   ]
  },
  {
   "cell_type": "markdown",
   "metadata": {},
   "source": [
    "---\n",
    "### rdplot : automatic plot \n",
    "* graph_options not working in the jupyterlabl with stata 14 (R is much beter)\n",
    "---"
   ]
  },
  {
   "cell_type": "code",
   "execution_count": 13,
   "metadata": {},
   "outputs": [
    {
     "name": "stdout",
     "output_type": "stream",
     "text": [
      "\n",
      "RD Plot with evenly spaced mimicking variance number of bins using spacings estimators.\n",
      "\n",
      "         Cutoff c = 0 | Left of c  Right of c        Number of obs  =       1297\n",
      "----------------------+----------------------        Kernel         =    Uniform\n",
      "        Number of obs |       595         702\n",
      "   Eff. Number of obs |       595         702\n",
      "  Order poly. fit (p) |         4           4\n",
      "     BW poly. fit (h) |   100.000     100.000\n",
      " Number of bins scale |     1.000       1.000\n",
      "\n",
      "Outcome: vote. Running variable: margin.\n",
      "---------------------------------------------\n",
      "                      | Left of c  Right of c\n",
      "----------------------+----------------------\n",
      "        Bins selected |        15          35\n",
      "   Average bin length |     6.667       2.857\n",
      "    Median bin length |     6.667       2.857\n",
      "----------------------+----------------------\n",
      "    IMSE-optimal bins |         8           9\n",
      "  Mimicking Var. bins |        15          35\n",
      "----------------------+----------------------\n",
      "Rel. to IMSE-optimal: | \n",
      "        Implied scale |     1.875       3.889\n",
      "    WIMSE var. weight |     0.132       0.017\n",
      "    WIMSE bias weight |     0.868       0.983\n",
      "---------------------------------------------\n",
      "\n"
     ]
    }
   ],
   "source": [
    "rdplot vote margin, graph_options(title(RD Plot - Senate elections data) ytitle(Vote share in election at time t+1) xtitle(Vote share in election at time t))"
   ]
  },
  {
   "cell_type": "code",
   "execution_count": 14,
   "metadata": {},
   "outputs": [
    {
     "name": "stdout",
     "output_type": "stream",
     "text": [
      "\n",
      "RD Plot with evenly spaced number of bins using spacings estimators.\n",
      "\n",
      "         Cutoff c = 0 | Left of c  Right of c        Number of obs  =       1297\n",
      "----------------------+----------------------        Kernel         =    Uniform\n",
      "        Number of obs |       595         702\n",
      "   Eff. Number of obs |       595         702\n",
      "  Order poly. fit (p) |         4           4\n",
      "     BW poly. fit (h) |   100.000     100.000\n",
      " Number of bins scale |     1.000       1.000\n",
      "\n",
      "Outcome: vote. Running variable: margin.\n",
      "---------------------------------------------\n",
      "                      | Left of c  Right of c\n",
      "----------------------+----------------------\n",
      "        Bins selected |         8           9\n",
      "   Average bin length |    12.500      11.111\n",
      "    Median bin length |    12.500      11.111\n",
      "----------------------+----------------------\n",
      "    IMSE-optimal bins |         8           9\n",
      "  Mimicking Var. bins |        15          35\n",
      "----------------------+----------------------\n",
      "Rel. to IMSE-optimal: | \n",
      "        Implied scale |     1.000       1.000\n",
      "    WIMSE var. weight |     0.500       0.500\n",
      "    WIMSE bias weight |     0.500       0.500\n",
      "---------------------------------------------\n",
      "\n"
     ]
    }
   ],
   "source": [
    "rdplot vote margin, binselect(es) graph_options(title(RD Plot - Senate elections data) ytitle(Vote share in election at time t+1) xtitle(Vote share in election at time t))"
   ]
  },
  {
   "cell_type": "code",
   "execution_count": 15,
   "metadata": {},
   "outputs": [
    {
     "name": "stdout",
     "output_type": "stream",
     "text": [
      "\n",
      "RD Plot with quantile spaced mimicking variance quantile spaced using spacings estimators.\n",
      "\n",
      "         Cutoff c = 0 | Left of c  Right of c        Number of obs  =       1297\n",
      "----------------------+----------------------        Kernel         =    Uniform\n",
      "        Number of obs |       595         702\n",
      "   Eff. Number of obs |       595         702\n",
      "  Order poly. fit (p) |         4           4\n",
      "     BW poly. fit (h) |   100.000     100.000\n",
      " Number of bins scale |     1.000       1.000\n",
      "\n",
      "Outcome: vote. Running variable: margin.\n",
      "---------------------------------------------\n",
      "                      | Left of c  Right of c\n",
      "----------------------+----------------------\n",
      "        Bins selected |        28          49\n",
      "   Average bin length |     3.571       2.083\n",
      "    Median bin length |     1.367       1.041\n",
      "----------------------+----------------------\n",
      "    IMSE-optimal bins |        21          16\n",
      "  Mimicking Var. bins |        28          49\n",
      "----------------------+----------------------\n",
      "Rel. to IMSE-optimal: | \n",
      "        Implied scale |     1.333       3.062\n",
      "    WIMSE var. weight |     0.297       0.034\n",
      "    WIMSE bias weight |     0.703       0.966\n",
      "---------------------------------------------\n",
      "\n"
     ]
    }
   ],
   "source": [
    "rdplot vote margin, binselect(qsmv) graph_options(title(RD Plot - Senate elections data) ytitle(Vote share in election at time t+1) xtitle(Vote share in election at time t))"
   ]
  },
  {
   "cell_type": "markdown",
   "metadata": {},
   "source": [
    "---\n",
    "### rdrobust results\n",
    "* ,all option recommended\n",
    "---"
   ]
  },
  {
   "cell_type": "code",
   "execution_count": 8,
   "metadata": {},
   "outputs": [
    {
     "name": "stdout",
     "output_type": "stream",
     "text": [
      "\n",
      "Sharp RD estimates using local polynomial regression.\n",
      "\n",
      "      Cutoff c = 0 | Left of c  Right of c            Number of obs =       1297\n",
      "-------------------+----------------------            BW type       =      mserd\n",
      "     Number of obs |       595         702            Kernel        = Triangular\n",
      "Eff. Number of obs |       360         323            VCE method    =         NN\n",
      "    Order est. (p) |         1           1\n",
      "    Order bias (q) |         2           2\n",
      "       BW est. (h) |    17.754      17.754\n",
      "       BW bias (b) |    28.028      28.028\n",
      "         rho (h/b) |     0.633       0.633\n",
      "\n",
      "Outcome: vote. Running variable: margin.\n",
      "--------------------------------------------------------------------------------\n",
      "            Method |   Coef.    Std. Err.    z     P>|z|    [95% Conf. Interval]\n",
      "-------------------+------------------------------------------------------------\n",
      "      Conventional |  7.4141     1.4587   5.0826   0.000     4.5551      10.2732\n",
      "            Robust |     -          -     4.3110   0.000     4.0937      10.9193\n",
      "--------------------------------------------------------------------------------\n"
     ]
    }
   ],
   "source": [
    "* robust confidential interval provided (bias is not corrected)\n",
    "rdrobust vote margin"
   ]
  },
  {
   "cell_type": "code",
   "execution_count": 9,
   "metadata": {},
   "outputs": [
    {
     "name": "stdout",
     "output_type": "stream",
     "text": [
      "\n",
      "Sharp RD estimates using local polynomial regression.\n",
      "\n",
      "      Cutoff c = 0 | Left of c  Right of c            Number of obs =       1297\n",
      "-------------------+----------------------            BW type       =      mserd\n",
      "     Number of obs |       595         702            Kernel        = Triangular\n",
      "Eff. Number of obs |       360         323            VCE method    =         NN\n",
      "    Order est. (p) |         1           1\n",
      "    Order bias (q) |         2           2\n",
      "       BW est. (h) |    17.754      17.754\n",
      "       BW bias (b) |    28.028      28.028\n",
      "         rho (h/b) |     0.633       0.633\n",
      "\n",
      "Outcome: vote. Running variable: margin.\n",
      "--------------------------------------------------------------------------------\n",
      "            Method |   Coef.    Std. Err.    z     P>|z|    [95% Conf. Interval]\n",
      "-------------------+------------------------------------------------------------\n",
      "      Conventional |  7.4141     1.4587   5.0826   0.000     4.5551      10.2732\n",
      "    Bias-corrected |  7.5065     1.4587   5.1460   0.000    4.64747      10.3655\n",
      "            Robust |  7.5065     1.7413   4.3110   0.000     4.0937      10.9193\n",
      "--------------------------------------------------------------------------------\n"
     ]
    }
   ],
   "source": [
    "* biased corrected, robust option all displayed (recommends)\n",
    "rdrobust vote margin,all"
   ]
  },
  {
   "cell_type": "markdown",
   "metadata": {},
   "source": [
    "---\n",
    "### rdbwselect: bandwidth selection\n",
    "---"
   ]
  },
  {
   "cell_type": "code",
   "execution_count": 11,
   "metadata": {},
   "outputs": [
    {
     "name": "stdout",
     "output_type": "stream",
     "text": [
      "\n",
      "Bandwidth estimators for sharp RD local polynomial regression.\n",
      "\n",
      "       Cutoff c =  | Left of c  Right of c            Number of obs =       1297\n",
      "-------------------+----------------------            Kernel        = Triangular\n",
      "     Number of obs |       595         702            VCE method    =         NN\n",
      "     Min of margin |  -100.000       0.036\n",
      "     Max of margin |    -0.079     100.000\n",
      "    Order est. (p) |         1           1\n",
      "    Order bias (q) |         2           2\n",
      "\n",
      "Outcome: vote. Running variable: margin.\n",
      "--------------------------------------------------------------------------------\n",
      "                   |         BW est. (h)          |        BW bias (b)\n",
      "            Method | Left of c         Right of c | Left of c        Right of c\n",
      "-------------------+------------------------------+-----------------------------\n",
      "             mserd |    17.754             17.754 |    28.028            28.028\n",
      "            msetwo |    16.170             18.126 |    27.104            29.344\n",
      "            msesum |    18.365             18.365 |    31.319            31.319\n",
      "          msecomb1 |    17.754             17.754 |    28.028            28.028\n",
      "          msecomb2 |    17.754             18.126 |    28.028            29.344\n",
      "-------------------+------------------------------+-----------------------------\n",
      "             cerrd |    12.407             12.407 |    28.028            28.028\n",
      "            certwo |    11.299             12.667 |    27.104            29.344\n",
      "            cersum |    12.834             12.834 |    31.319            31.319\n",
      "          cercomb1 |    12.407             12.407 |    28.028            28.028\n",
      "          cercomb2 |    12.407             12.667 |    28.028            29.344\n",
      "--------------------------------------------------------------------------------\n"
     ]
    }
   ],
   "source": [
    "rdbwselect vote margin, all"
   ]
  },
  {
   "cell_type": "code",
   "execution_count": 16,
   "metadata": {},
   "outputs": [
    {
     "name": "stdout",
     "output_type": "stream",
     "text": [
      "option cvplot not allowed\n"
     ]
    },
    {
     "name": "stderr",
     "output_type": "stream",
     "text": [
      "r(198);\n"
     ]
    },
    {
     "name": "stdout",
     "output_type": "stream",
     "text": [
      "\n"
     ]
    }
   ],
   "source": [
    "rdbwselect vote margin, bwselect(CV) cvplot cvgrid_min(10) cvgrid_max(80)"
   ]
  },
  {
   "cell_type": "code",
   "execution_count": null,
   "metadata": {},
   "outputs": [],
   "source": []
  }
 ],
 "metadata": {
  "kernelspec": {
   "display_name": "Stata",
   "language": "stata",
   "name": "stata"
  },
  "language_info": {
   "codemirror_mode": "stata",
   "file_extension": ".do",
   "mimetype": "text/x-stata",
   "name": "stata",
   "version": "15.1"
  }
 },
 "nbformat": 4,
 "nbformat_minor": 4
}
